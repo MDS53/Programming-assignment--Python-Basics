{
 "cells": [
  {
   "cell_type": "markdown",
   "id": "f11fff6f",
   "metadata": {},
   "source": [
    "### 1.\tWrite a Python program to convert kilometers to miles?"
   ]
  },
  {
   "cell_type": "code",
   "execution_count": 2,
   "id": "bf04cafa",
   "metadata": {
    "scrolled": true
   },
   "outputs": [
    {
     "name": "stdout",
     "output_type": "stream",
     "text": [
      "Enter kilometers3\n"
     ]
    }
   ],
   "source": [
    "inp=int(input(\"Enter kilometers\"))\n",
    "miles= 0.62137119 *inp\n",
    "print(miles)"
   ]
  },
  {
   "cell_type": "markdown",
   "id": "b2e5c889",
   "metadata": {},
   "source": [
    "### 2.\tWrite a Python program to convert Celsius to Fahrenheit?"
   ]
  },
  {
   "cell_type": "code",
   "execution_count": 3,
   "id": "30e5392c",
   "metadata": {
    "scrolled": true
   },
   "outputs": [
    {
     "name": "stdout",
     "output_type": "stream",
     "text": [
      "Enter temperature in celsius21\n",
      "Farhrenheit 69.80000000000001\n"
     ]
    }
   ],
   "source": [
    "celsius=int(input(\"Enter temperature in celsius\"))\n",
    "print(\"Farhrenheit\",(celsius*1.8)+32)"
   ]
  },
  {
   "cell_type": "markdown",
   "id": "24c923e0",
   "metadata": {},
   "source": [
    "### 3.\tWrite a Python program to display calendar?"
   ]
  },
  {
   "cell_type": "code",
   "execution_count": 21,
   "id": "4e187141",
   "metadata": {
    "scrolled": true
   },
   "outputs": [
    {
     "name": "stdout",
     "output_type": "stream",
     "text": [
      "   December 2022\n",
      "Mo Tu We Th Fr Sa Su\n",
      "          1  2  3  4\n",
      " 5  6  7  8  9 10 11\n",
      "12 13 14 15 16 17 18\n",
      "19 20 21 22 23 24 25\n",
      "26 27 28 29 30 31\n",
      "\n"
     ]
    }
   ],
   "source": [
    "import calendar as cl\n",
    "yy=2022\n",
    "mm=12\n",
    "print(cl.month(yy, mm))"
   ]
  },
  {
   "cell_type": "markdown",
   "id": "f66ca899",
   "metadata": {},
   "source": [
    "### 4.\tWrite a Python program to solve quadratic equation?"
   ]
  },
  {
   "cell_type": "code",
   "execution_count": 25,
   "id": "32a5868b",
   "metadata": {},
   "outputs": [
    {
     "name": "stdout",
     "output_type": "stream",
     "text": [
      "Quadratic equation\n",
      "Enter b-Value 12\n",
      "Enter a-value1\n",
      "Enter c-value1\n",
      "-0.08392021690038387\n",
      "-11.916079783099615\n"
     ]
    }
   ],
   "source": [
    "print(\"Quadratic equation\")\n",
    "b=int(input(\"Enter b-Value \"))\n",
    "a=int(input(\"Enter a-value\"))\n",
    "c=int(input(\"Enter c-value\"))\n",
    "quadratic_equation1=(-b)+((b*b)-4*a*c)**(1/2)\n",
    "quadratic_equation2=(-b)-((b*b)-4*a*c)**(1/2)\n",
    "print(quadratic_equation1/2*a)\n",
    "print(quadratic_equation2/2*a)"
   ]
  },
  {
   "cell_type": "markdown",
   "id": "cb0cbcbb",
   "metadata": {},
   "source": [
    "### 5.\tWrite a Python program to swap two variables without temp variable?"
   ]
  },
  {
   "cell_type": "code",
   "execution_count": 28,
   "id": "c864b717",
   "metadata": {
    "scrolled": true
   },
   "outputs": [
    {
     "name": "stdout",
     "output_type": "stream",
     "text": [
      "2 3\n",
      "3 2\n"
     ]
    }
   ],
   "source": [
    "a=2\n",
    "b=3\n",
    "print(a,b)\n",
    "a,b=b,a\n",
    "print(a,b)"
   ]
  }
 ],
 "metadata": {
  "kernelspec": {
   "display_name": "Python 3",
   "language": "python",
   "name": "python3"
  },
  "language_info": {
   "codemirror_mode": {
    "name": "ipython",
    "version": 3
   },
   "file_extension": ".py",
   "mimetype": "text/x-python",
   "name": "python",
   "nbconvert_exporter": "python",
   "pygments_lexer": "ipython3",
   "version": "3.8.8"
  }
 },
 "nbformat": 4,
 "nbformat_minor": 5
}
